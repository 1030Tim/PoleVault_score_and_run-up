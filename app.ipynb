{
 "cells": [
  {
   "cell_type": "code",
   "execution_count": 13,
   "metadata": {},
   "outputs": [],
   "source": [
    "import pandas as pd\n",
    "import numpy as np\n",
    "import socket\n",
    "from sklearn.preprocessing import normalize\n",
    "# df = pd.read_excel(\"已知.xlsx\")\n",
    "# ase = df[:]\n",
    "# df[\"成績\"] = df[\"成績\"].str.replace(\"M\",\" \").astype(float)\n",
    "# cn = np.array([df[\"姓名\"],df[\"成績\"],df[\"速度\"]])\n",
    "# arr = [\"姓名\",\"成績\",\"速度\"]\n",
    "# df = pd.DataFrame(cn.T,columns=arr)\n",
    "# df.to_csv(\"林志成1.csv\")"
   ]
  },
  {
   "cell_type": "code",
   "execution_count": 14,
   "metadata": {},
   "outputs": [
    {
     "name": "stdout",
     "output_type": "stream",
     "text": [
      "<class 'pandas.core.frame.DataFrame'>\n",
      "RangeIndex: 24 entries, 0 to 23\n",
      "Data columns (total 4 columns):\n",
      " #   Column      Non-Null Count  Dtype  \n",
      "---  ------      --------------  -----  \n",
      " 0   Unnamed: 0  24 non-null     int64  \n",
      " 1   姓名          24 non-null     object \n",
      " 2   成績          24 non-null     float64\n",
      " 3   速度          24 non-null     float64\n",
      "dtypes: float64(2), int64(1), object(1)\n",
      "memory usage: 900.0+ bytes\n"
     ]
    }
   ],
   "source": [
    "df = pd.read_csv(\"林志成1.csv\")\n",
    "\n",
    "x = pd.DataFrame(df[\"成績\"])\n",
    "y = pd.DataFrame(df[\"速度\"])\n",
    "df[\"成績\"] = (normalize(x,axis=0))\n",
    "df[\"速度\"] = (normalize(y,axis=0))\n",
    "normal = df[:]\n",
    "normal.info()"
   ]
  },
  {
   "cell_type": "code",
   "execution_count": 15,
   "metadata": {},
   "outputs": [
    {
     "name": "stdout",
     "output_type": "stream",
     "text": [
      "截距： [0.25420849]\n",
      "回歸係數： [[-0.2463426]]\n",
      "模型契合： 0.14593143670697928\n"
     ]
    }
   ],
   "source": [
    "from sklearn.linear_model import LinearRegression\n",
    "# 将“速度”提取出来，作为自变量 x1\n",
    "x1 = pd.DataFrame(df['速度'])\n",
    "# 将“成績”提取出来，作为因变量 x2\n",
    "x2 = pd.DataFrame(df['成績'])\n",
    "model = LinearRegression()#創建訓練模型\n",
    "# 使用速度（x1）作为自變量，成績（x2）作為因變量\n",
    "model.fit(x1, x2)\n",
    "# 截距（w_0）\n",
    "w_0 = model.intercept_\n",
    "# 回歸係數（w_1）\n",
    "w_1 = model.coef_\n",
    "# R²分数，衡量模型的擬合\n",
    "r2 = model.score(x1, x2) \n",
    "print(f\"截距： {w_0}\")\n",
    "print(f\"回歸係數： {w_1}\")\n",
    "print(f\"模型契合： {r2}\")\n",
    "# 生成模型的预测值\n",
    "ch1 = df[\"成績\"]\n",
    "ch2 = pd.DataFrame(df[\"速度\"])\n",
    "predictions = model.predict(ch2)\n"
   ]
  },
  {
   "cell_type": "code",
   "execution_count": 16,
   "metadata": {},
   "outputs": [
    {
     "name": "stdout",
     "output_type": "stream",
     "text": [
      "Epoch 0: Loss = 0.041666666666666664\n",
      "Epoch 100: Loss = 0.000671576157950455\n",
      "Epoch 200: Loss = 6.306382230518781e-05\n",
      "Epoch 300: Loss = 5.402670432269251e-05\n",
      "Epoch 400: Loss = 5.388785506149361e-05\n",
      "Epoch 500: Loss = 5.388108882937538e-05\n",
      "Epoch 600: Loss = 5.387628538994495e-05\n",
      "Epoch 700: Loss = 5.387151331194771e-05\n",
      "Epoch 800: Loss = 5.386674392527089e-05\n",
      "Epoch 900: Loss = 5.3861976803297866e-05\n",
      "优化后的截距 w_0: 0.1959922021753823\n",
      "优化后的斜率 w_1: 0.039246995490716814\n",
      "模型的 R² 分数: -0.05020425358393821\n"
     ]
    }
   ],
   "source": [
    "\n",
    "# 提取自變量（x1）和因變量（x2）\n",
    "x1 = df['速度'].values\n",
    "x2 = df['成績'].values\n",
    "\n",
    "# 初始化參數\n",
    "w_0 = 0  # 截距\n",
    "w_1 = 0  # 斜率\n",
    "alpha = 0.01  # 學習率\n",
    "epochs = 1000  # 迭代次數\n",
    "\n",
    "n = len(x1)  # 數據量\n",
    "\n",
    "# 梯度下降法\n",
    "for _ in range(epochs):\n",
    "    # 計算預測值\n",
    "    y_pred = w_1 * x1 + w_0\n",
    "\n",
    "    # 計算損失函數（MSE）\n",
    "    loss = (1/n) * sum((x2 - y_pred) ** 2)\n",
    "\n",
    "    # 計算梯度\n",
    "    dw_0 = -(2/n) * sum(x2 - y_pred)\n",
    "    dw_1 = -(2/n) * sum(x1 * (x2 - y_pred))\n",
    "\n",
    "    # 更新参数\n",
    "    w_0 = w_0 - alpha * dw_0\n",
    "    w_1 = w_1 - alpha * dw_1\n",
    "\n",
    "\n",
    "    if _ % 100 == 0:\n",
    "        print(f'Epoch {_}: Loss = {loss}')\n",
    "\n",
    "\n",
    "print(f\"優化后的截距 w_0: {w_0}\")\n",
    "print(f\"優化后的斜率 w_1: {w_1}\")\n",
    "\n",
    "predictions = w_1 * x1 + w_0\n",
    "\n",
    "ss_total = sum((x2 - np.mean(x2)) ** 2)\n",
    "ss_residual = sum((x2 - predictions) ** 2)\n",
    "r2 = 1 - (ss_residual / ss_total)\n",
    "\n",
    "print(f\"模型的 R² 分数: {r2}\")"
   ]
  },
  {
   "cell_type": "code",
   "execution_count": 17,
   "metadata": {},
   "outputs": [],
   "source": [
    "df1 = pd.read_csv(\"林志成1.csv\")\n",
    "df2 = pd.read_csv(\"江育安.csv\")\n"
   ]
  },
  {
   "cell_type": "code",
   "execution_count": 18,
   "metadata": {},
   "outputs": [
    {
     "name": "stdout",
     "output_type": "stream",
     "text": [
      "截距： [9.38378378]\n",
      "回歸係數： [[-1.46114865]]\n",
      "模型契合： 0.5735194922659453\n"
     ]
    }
   ],
   "source": [
    "from sklearn.linear_model import LinearRegression\n",
    "# 将“速度”提取出来，作为自变量 x1\n",
    "x1 = pd.DataFrame(df2['速度'])\n",
    "# 将“成績”提取出来，作为因变量 x2\n",
    "x2 = pd.DataFrame(df2['成績'])\n",
    "model = LinearRegression()#創建訓練模型\n",
    "# 使用速度（x1）作为自變量，成績（x2）作為因變量\n",
    "model.fit(x1, x2)\n",
    "# 截距（w_0）\n",
    "w_0 = model.intercept_\n",
    "# 回歸係數（w_1）\n",
    "w_1 = model.coef_\n",
    "# R²分数，衡量模型的擬合\n",
    "r2 = model.score(x1, x2) \n",
    "print(f\"截距： {w_0}\")\n",
    "print(f\"回歸係數： {w_1}\")\n",
    "print(f\"模型契合： {r2}\")\n",
    "# 生成模型的预测值\n",
    "ch1 = df[\"成績\"]\n",
    "ch2 = pd.DataFrame(df[\"速度\"])\n",
    "predictions = model.predict(ch2)"
   ]
  },
  {
   "cell_type": "code",
   "execution_count": 19,
   "metadata": {},
   "outputs": [
    {
     "name": "stdout",
     "output_type": "stream",
     "text": [
      "     姓名    成績    速度\n",
      "0   林志成  4.95  4.45\n",
      "1   林志成  4.75  4.45\n",
      "2   林志成  5.12  4.33\n",
      "3   林志成  4.80  4.45\n",
      "4   林志成  5.25  4.45\n",
      "5   林志成  5.05  4.45\n",
      "6   林志成  5.12  4.45\n",
      "7   林志成  5.05  4.45\n",
      "8   林志成  5.13  4.45\n",
      "9   林志成  4.75  4.45\n",
      "10  林志成  5.10  4.45\n",
      "11  林志成  4.85  4.45\n",
      "12  林志成  5.00  4.45\n",
      "13  林志成  4.75  4.45\n",
      "14  林志成  5.05  4.45\n",
      "15  林志成  5.38  3.38\n",
      "16  林志成  5.05  4.45\n",
      "17  林志成  5.00  4.89\n",
      "18  林志成  5.25  4.45\n",
      "19  林志成  4.80  4.48\n",
      "20  林志成  5.10  4.33\n",
      "21  林志成  4.70  4.33\n",
      "22  林志成  5.10  4.48\n",
      "23  林志成  4.95  4.22\n",
      "24  江育安  4.05  3.63\n",
      "25  江育安  4.35  3.53\n",
      "26  江育安  3.70  3.89\n",
      "27  江育安  4.30  3.56\n",
      "28  江育安  4.30  3.56\n",
      "29  江育安  4.20  3.62\n",
      "30  江育安  4.20  3.62\n",
      "31  江育安  4.00  3.63\n",
      "32  江育安  4.00  3.55\n",
      "33  江育安  4.00  3.63\n",
      "34  江育安  4.15  3.59\n",
      "35  江育安  4.00  3.55\n"
     ]
    }
   ],
   "source": [
    "result = pd.concat([df1, df2], ignore_index=True).reset_index(drop=True)\n",
    "if 'Unnamed: 0' in result.columns:\n",
    "    result = result.drop(columns=['Unnamed: 0'])\n",
    "print(result)"
   ]
  },
  {
   "cell_type": "code",
   "execution_count": 20,
   "metadata": {},
   "outputs": [],
   "source": [
    "df = result[:]\n",
    "x = pd.DataFrame(df[\"成績\"])\n",
    "y = pd.DataFrame(df[\"速度\"])\n",
    "df[\"成績\"] = (normalize(x,axis=0))\n",
    "df[\"速度\"] = (normalize(y,axis=0))\n",
    "df.to_csv(\"合併後的數據.csv\")"
   ]
  },
  {
   "cell_type": "code",
   "execution_count": 21,
   "metadata": {},
   "outputs": [
    {
     "name": "stdout",
     "output_type": "stream",
     "text": [
      "截距： [0.04972185]\n",
      "回歸係數： [[0.70059214]]\n",
      "模型契合： 0.5403786659376706\n",
      "===\n",
      "[[0.1746127 ]\n",
      " [0.1746127 ]\n",
      " [0.17124486]\n",
      " [0.1746127 ]\n",
      " [0.1746127 ]\n",
      " [0.1746127 ]\n",
      " [0.1746127 ]\n",
      " [0.1746127 ]\n",
      " [0.1746127 ]\n",
      " [0.1746127 ]\n",
      " [0.1746127 ]\n",
      " [0.1746127 ]\n",
      " [0.1746127 ]\n",
      " [0.1746127 ]\n",
      " [0.1746127 ]\n",
      " [0.14458277]\n",
      " [0.1746127 ]\n",
      " [0.18696146]\n",
      " [0.1746127 ]\n",
      " [0.17545466]\n",
      " [0.17124486]\n",
      " [0.17124486]\n",
      " [0.17545466]\n",
      " [0.16815767]\n",
      " [0.15159911]\n",
      " [0.14879257]\n",
      " [0.1588961 ]\n",
      " [0.14963453]\n",
      " [0.14963453]\n",
      " [0.15131845]\n",
      " [0.15131845]\n",
      " [0.15159911]\n",
      " [0.14935388]\n",
      " [0.15159911]\n",
      " [0.15047649]\n",
      " [0.14935388]]\n"
     ]
    }
   ],
   "source": [
    "from sklearn.linear_model import LinearRegression\n",
    "\n",
    "x1 = pd.DataFrame(df['速度'])\n",
    "\n",
    "x2 = pd.DataFrame(df['成績'])\n",
    "model = LinearRegression()\n",
    "model.fit(x1, x2)\n",
    "w_0 = model.intercept_\n",
    "w_1 = model.coef_\n",
    "r2 = model.score(x1, x2) \n",
    "print(f\"截距： {w_0}\")\n",
    "print(f\"回歸係數： {w_1}\")\n",
    "print(f\"模型契合： {r2}\")\n",
    "ch1 = df[\"成績\"]\n",
    "ch2 = pd.DataFrame(df[\"速度\"])\n",
    "predictions = model.predict(ch2)\n",
    "print(\"===\")\n",
    "print(predictions)"
   ]
  },
  {
   "cell_type": "code",
   "execution_count": 22,
   "metadata": {},
   "outputs": [],
   "source": [
    "import matplotlib.pyplot as plt"
   ]
  },
  {
   "cell_type": "code",
   "execution_count": 23,
   "metadata": {},
   "outputs": [
    {
     "data": {
      "image/png": "[encoded data removed]",
      "text/plain": [
       "<Figure size 640x480 with 1 Axes>"
      ]
     },
     "metadata": {},
     "output_type": "display_data"
    }
   ],
   "source": [
    "plt.scatter(x1,x2,color=\"blue\",label=\"score\")\n",
    "plt.plot(x1,model.predict(x1),color=\"red\",linewidth = 2,label = \"V\")\n",
    "plt.xlabel(\"pole-value score\")\n",
    "plt.ylabel(\"30m-v\")\n",
    "plt.legend()\n",
    "plt.show()"
   ]
  }
 ],
 "metadata": {
  "kernelspec": {
   "display_name": "venv",
   "language": "python",
   "name": "python3"
  },
  "language_info": {
   "codemirror_mode": {
    "name": "ipython",
    "version": 3
   },
   "file_extension": ".py",
   "mimetype": "text/x-python",
   "name": "python",
   "nbconvert_exporter": "python",
   "pygments_lexer": "ipython3",
   "version": "3.12.0"
  }
 },
 "nbformat": 4,
 "nbformat_minor": 2
}
