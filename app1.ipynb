{
 "cells": [
  {
   "cell_type": "code",
   "execution_count": 5,
   "metadata": {},
   "outputs": [],
   "source": [
    "import pandas as pd\n",
    "import numpy as np\n",
    "df = pd.read_excel(\"已知 2.xlsx\")\n",
    "df[\"成績\"] = df[\"成績\"].str.replace(\"M\",\"\").astype(float)\n",
    "df[\"速度\"] = df[\"速度\"].astype(float)\n",
    "df = np.array([df[\"姓名\"],df[\"成績\"],df[\"速度\"]])\n",
    "df = pd.DataFrame(df.T,columns=[\"姓名\",\"成績\",\"速度\"])\n",
    "df.to_csv(\"林志成.csv\")"
   ]
  },
  {
   "cell_type": "code",
   "execution_count": 6,
   "metadata": {},
   "outputs": [],
   "source": [
    "df = pd.read_excel(\"江.xlsx\")\n",
    "df[\"成績\"] = df[\"成績\"].str.replace(\"M\",\"\").astype(float)\n",
    "df[\"速度\"] = df[\"速度\"].astype(float)\n",
    "df = np.array([df[\"選手姓名\"],df[\"成績\"],df[\"速度\"]])\n",
    "df = pd.DataFrame(df.T,columns=[\"姓名\",\"成績\",\"速度\"])\n",
    "df.to_csv(\"江育安.csv\")"
   ]
  }
 ],
 "metadata": {
  "kernelspec": {
   "display_name": "venv",
   "language": "python",
   "name": "python3"
  },
  "language_info": {
   "codemirror_mode": {
    "name": "ipython",
    "version": 3
   },
   "file_extension": ".py",
   "mimetype": "text/x-python",
   "name": "python",
   "nbconvert_exporter": "python",
   "pygments_lexer": "ipython3",
   "version": "3.12.0"
  }
 },
 "nbformat": 4,
 "nbformat_minor": 2
}
